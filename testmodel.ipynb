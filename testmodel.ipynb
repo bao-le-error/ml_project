{
 "cells": [
  {
   "cell_type": "code",
   "execution_count": 7,
   "id": "ea60578d",
   "metadata": {},
   "outputs": [
    {
     "name": "stdout",
     "output_type": "stream",
     "text": [
      "        Age  Academic Pressure  Work Pressure   CGPA  Study Satisfaction  \\\n",
      "0  0.243902                0.8            0.0  0.828                 0.8   \n",
      "1  0.024390                1.0            0.0  0.709                 1.0   \n",
      "2  0.097561                0.6            0.0  0.665                 0.2   \n",
      "3  1.000000                0.2            0.0  0.814                 0.2   \n",
      "4  0.365854                0.6            0.0  0.647                 0.2   \n",
      "\n",
      "   Job Satisfaction  Sleep Duration  Work/Study Hours  Financial Stress  \\\n",
      "0               0.0             0.7          0.833333              0.00   \n",
      "1               0.0             0.3          0.916667              1.00   \n",
      "2               0.0             1.0          0.166667              0.75   \n",
      "3               0.0             0.3          0.833333              0.75   \n",
      "4               0.0             0.0          0.833333              0.00   \n",
      "\n",
      "   Gender_Male  ...  Degree_MCA  Degree_MD  Degree_ME  Degree_MHM  Degree_MSc  \\\n",
      "0        False  ...       False      False      False       False       False   \n",
      "1        False  ...       False      False      False       False       False   \n",
      "2        False  ...        True      False      False       False       False   \n",
      "3         True  ...       False      False      False       False       False   \n",
      "4        False  ...       False      False      False       False       False   \n",
      "\n",
      "   Degree_Others  Degree_PhD  Have you ever had suicidal thoughts ?_Yes  \\\n",
      "0          False       False                                       True   \n",
      "1          False       False                                       True   \n",
      "2          False       False                                       True   \n",
      "3          False        True                                       True   \n",
      "4          False       False                                      False   \n",
      "\n",
      "   Family History of Mental Illness_Yes  Depression  \n",
      "0                                  True           1  \n",
      "1                                  True           1  \n",
      "2                                 False           1  \n",
      "3                                  True           0  \n",
      "4                                  True           0  \n",
      "\n",
      "[5 rows x 43 columns]\n"
     ]
    }
   ],
   "source": [
    "import pandas as pd\n",
    "\n",
    "# Đọc dữ liệu từ file CSV\n",
    "df = pd.read_csv('train_set_encoded.csv')\n",
    "\n",
    "# Kiểm tra cấu trúc dữ liệu\n",
    "print(df.head())\n"
   ]
  },
  {
   "cell_type": "code",
   "execution_count": 8,
   "id": "82fc2571",
   "metadata": {},
   "outputs": [],
   "source": [
    "import numpy as np\n",
    "\n",
    "# Lấy đặc trưng X từ DataFrame\n",
    "X = df.drop(columns=['Depression']).values\n",
    "\n",
    "# Thêm cột bias vào đặc trưng X\n",
    "X = np.c_[np.ones(X.shape[0]), X]\n"
   ]
  },
  {
   "cell_type": "code",
   "execution_count": 9,
   "id": "4ba00538",
   "metadata": {},
   "outputs": [],
   "source": [
    "# 1. Hàm sigmoid\n",
    "def sigmoid(z):\n",
    "    return 1 / (1 + np.exp(-z))"
   ]
  },
  {
   "cell_type": "code",
   "execution_count": 10,
   "id": "566d3299",
   "metadata": {},
   "outputs": [],
   "source": [
    "def compute_log_loss(y_true, y_pred):\n",
    "    epsilon = 1e-15  # Tránh log(0)\n",
    "    y_pred = np.clip(y_pred, epsilon, 1 - epsilon)\n",
    "    return -np.mean(y_true * np.log(y_pred) + (1 - y_true) * np.log(1 - y_pred))"
   ]
  },
  {
   "cell_type": "code",
   "execution_count": 11,
   "id": "35d27d23",
   "metadata": {},
   "outputs": [],
   "source": [
    "def gradient_descent(X, y, lr=0.01, epochs=1000):\n",
    "    m, n = X.shape\n",
    "    # Khởi tạo weights kiểu float\n",
    "    w = np.zeros(n, dtype=float)\n",
    "    for i in range(epochs):\n",
    "        z = X.dot(w)\n",
    "        y_pred = sigmoid(z)\n",
    "        grad = (X.T.dot(y_pred - y)) / m\n",
    "        w -= lr * grad\n",
    "    return w"
   ]
  },
  {
   "cell_type": "code",
   "execution_count": 12,
   "id": "45036455",
   "metadata": {},
   "outputs": [],
   "source": [
    "# 3. Hàm predict sử dụng threshold\n",
    "def predict(X, w, threshold=0.5):\n",
    "    y_prob = sigmoid(X.dot(w))\n",
    "    return (y_prob >= threshold).astype(int)"
   ]
  },
  {
   "cell_type": "code",
   "execution_count": 13,
   "id": "7f6fc04c",
   "metadata": {},
   "outputs": [
    {
     "ename": "TypeError",
     "evalue": "loop of ufunc does not support argument 0 of type float which has no callable exp method",
     "output_type": "error",
     "traceback": [
      "\u001b[31m---------------------------------------------------------------------------\u001b[39m",
      "\u001b[31mAttributeError\u001b[39m                            Traceback (most recent call last)",
      "\u001b[31mAttributeError\u001b[39m: 'float' object has no attribute 'exp'",
      "\nThe above exception was the direct cause of the following exception:\n",
      "\u001b[31mTypeError\u001b[39m                                 Traceback (most recent call last)",
      "\u001b[36mCell\u001b[39m\u001b[36m \u001b[39m\u001b[32mIn[13]\u001b[39m\u001b[32m, line 2\u001b[39m\n\u001b[32m      1\u001b[39m \u001b[38;5;66;03m# 5. Huấn luyện\u001b[39;00m\n\u001b[32m----> \u001b[39m\u001b[32m2\u001b[39m w = \u001b[43mgradient_descent\u001b[49m\u001b[43m(\u001b[49m\u001b[43mX\u001b[49m\u001b[43m,\u001b[49m\u001b[43m \u001b[49m\u001b[43my\u001b[49m\u001b[43m,\u001b[49m\u001b[43m \u001b[49m\u001b[43mlr\u001b[49m\u001b[43m=\u001b[49m\u001b[32;43m0.01\u001b[39;49m\u001b[43m,\u001b[49m\u001b[43m \u001b[49m\u001b[43mepochs\u001b[49m\u001b[43m=\u001b[49m\u001b[32;43m5000\u001b[39;49m\u001b[43m)\u001b[49m\n\u001b[32m      4\u001b[39m \u001b[38;5;66;03m# 6. Dự đoán & đánh giá\u001b[39;00m\n\u001b[32m      5\u001b[39m y_pred = predict(X, w, threshold=\u001b[32m0.5\u001b[39m)\n",
      "\u001b[36mCell\u001b[39m\u001b[36m \u001b[39m\u001b[32mIn[11]\u001b[39m\u001b[32m, line 7\u001b[39m, in \u001b[36mgradient_descent\u001b[39m\u001b[34m(X, y, lr, epochs)\u001b[39m\n\u001b[32m      5\u001b[39m \u001b[38;5;28;01mfor\u001b[39;00m i \u001b[38;5;129;01min\u001b[39;00m \u001b[38;5;28mrange\u001b[39m(epochs):\n\u001b[32m      6\u001b[39m     z = X.dot(w)\n\u001b[32m----> \u001b[39m\u001b[32m7\u001b[39m     y_pred = \u001b[43msigmoid\u001b[49m\u001b[43m(\u001b[49m\u001b[43mz\u001b[49m\u001b[43m)\u001b[49m\n\u001b[32m      8\u001b[39m     grad = (X.T.dot(y_pred - y)) / m\n\u001b[32m      9\u001b[39m     w -= lr * grad\n",
      "\u001b[36mCell\u001b[39m\u001b[36m \u001b[39m\u001b[32mIn[9]\u001b[39m\u001b[32m, line 3\u001b[39m, in \u001b[36msigmoid\u001b[39m\u001b[34m(z)\u001b[39m\n\u001b[32m      2\u001b[39m \u001b[38;5;28;01mdef\u001b[39;00m\u001b[38;5;250m \u001b[39m\u001b[34msigmoid\u001b[39m(z):\n\u001b[32m----> \u001b[39m\u001b[32m3\u001b[39m     \u001b[38;5;28;01mreturn\u001b[39;00m \u001b[32m1\u001b[39m / (\u001b[32m1\u001b[39m + \u001b[43mnp\u001b[49m\u001b[43m.\u001b[49m\u001b[43mexp\u001b[49m\u001b[43m(\u001b[49m\u001b[43m-\u001b[49m\u001b[43mz\u001b[49m\u001b[43m)\u001b[49m)\n",
      "\u001b[31mTypeError\u001b[39m: loop of ufunc does not support argument 0 of type float which has no callable exp method"
     ]
    }
   ],
   "source": [
    "# 5. Huấn luyện\n",
    "w = gradient_descent(X, y, lr=0.01, epochs=5000)\n",
    "\n",
    "# 6. Dự đoán & đánh giá\n",
    "y_pred = predict(X, w, threshold=0.5)\n",
    "accuracy = np.mean(y_pred == y)\n",
    "print(f\"Accuracy: {accuracy * 100:.2f}%\")"
   ]
  },
  {
   "cell_type": "code",
   "execution_count": null,
   "id": "63505efe",
   "metadata": {},
   "outputs": [],
   "source": [
    "# 1. Hàm sigmoid\n",
    "def sigmoid(z):\n",
    "    return 1 / (1 + np.exp(-z))\n",
    "def compute_log_loss(y_true, y_pred):\n",
    "    epsilon = 1e-15  # Tránh log(0)\n",
    "    y_pred = np.clip(y_pred, epsilon, 1 - epsilon)\n",
    "    return -np.mean(y_true * np.log(y_pred) + (1 - y_true) * np.log(1 - y_pred))\n",
    "def gradient_descent(X, y, lr=0.01, epochs=1000):\n",
    "    m, n = X.shape\n",
    "    # Khởi tạo weights kiểu float\n",
    "    w = np.zeros(n, dtype=float)\n",
    "    for i in range(epochs):\n",
    "        z = X.dot(w)\n",
    "        y_pred = sigmoid(z)\n",
    "        grad = (X.T.dot(y_pred - y)) / m\n",
    "        w -= lr * grad\n",
    "    return w\n",
    "# 3. Hàm predict sử dụng threshold\n",
    "def predict(X, w, threshold=0.5):\n",
    "    y_prob = sigmoid(X.dot(w))\n",
    "    return (y_prob >= threshold).astype(int)\n",
    "\n",
    "# 4. Chuẩn bị dữ liệu\n",
    "# Lấy y và ép kiểu int\n",
    "y = df['Depression'].values.astype(int)\n",
    "\n",
    "# Lấy X_raw và ép kiểu float\n",
    "X_raw = df.drop(columns=['Depression']).values.astype(float)\n",
    "\n",
    "# Thêm cột bias (intercept) là 1, kiểu float\n",
    "ones = np.ones((X_raw.shape[0], 1), dtype=float)\n",
    "X = np.hstack([ones, X_raw])\n",
    "\n",
    "# Kiểm tra lại dtype để chắc chắn không phải object\n",
    "print(\"X.dtype =\", X.dtype)   # phải ra float64\n",
    "print(\"y.dtype =\", y.dtype)   # phải ra int64 hoặc int32\n",
    "\n",
    "# 5. Huấn luyện\n",
    "w = gradient_descent(X, y, lr=0.01, epochs=5000)\n",
    "\n",
    "# 6. Dự đoán & đánh giá\n",
    "y_pred = predict(X, w, threshold=0.5)\n",
    "accuracy = np.mean(y_pred == y)\n",
    "print(f\"Accuracy: {accuracy * 100:.2f}%\")"
   ]
  }
 ],
 "metadata": {
  "kernelspec": {
   "display_name": "Python 3",
   "language": "python",
   "name": "python3"
  },
  "language_info": {
   "codemirror_mode": {
    "name": "ipython",
    "version": 3
   },
   "file_extension": ".py",
   "mimetype": "text/x-python",
   "name": "python",
   "nbconvert_exporter": "python",
   "pygments_lexer": "ipython3",
   "version": "3.13.2"
  }
 },
 "nbformat": 4,
 "nbformat_minor": 5
}
